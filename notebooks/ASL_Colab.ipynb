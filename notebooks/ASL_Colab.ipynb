{
  "cells": [
    {
      "cell_type": "code",
      "source": [
        "!apt-get install openjdk-8-jdk-headless -qq > /dev/null"
      ],
      "metadata": {
        "id": "HHBl98-BTnG9"
      },
      "id": "HHBl98-BTnG9",
      "execution_count": 1,
      "outputs": []
    },
    {
      "cell_type": "code",
      "source": [
        "!wget -q https://dlcdn.apache.org/spark/spark-3.3.2/spark-3.3.2-bin-hadoop3.tgz"
      ],
      "metadata": {
        "id": "mbMy6EOkTrMd"
      },
      "id": "mbMy6EOkTrMd",
      "execution_count": 6,
      "outputs": []
    },
    {
      "cell_type": "code",
      "source": [
        "!tar xf spark-3.3.2-bin-hadoop3.tgz"
      ],
      "metadata": {
        "id": "jx7wo18OT7O-"
      },
      "id": "jx7wo18OT7O-",
      "execution_count": 8,
      "outputs": []
    },
    {
      "cell_type": "code",
      "source": [
        "import os\n",
        "os.environ[\"JAVA_HOME\"] = \"/usr/lib/jvm/java-8-openjdk-amd64\"\n",
        "os.environ[\"SPARK_HOME\"] = \"/content/spark-3.3.2-bin-hadoop3\""
      ],
      "metadata": {
        "id": "_CFaOGYbT75S"
      },
      "id": "_CFaOGYbT75S",
      "execution_count": 9,
      "outputs": []
    },
    {
      "cell_type": "code",
      "source": [
        "!pip install -q findspark"
      ],
      "metadata": {
        "id": "vzs_T9YiT8M7"
      },
      "id": "vzs_T9YiT8M7",
      "execution_count": 10,
      "outputs": []
    },
    {
      "cell_type": "code",
      "source": [
        "import findspark\n",
        "\n",
        "# Initiate findspark\n",
        "findspark.init()\n",
        "# Check the location for Spark\n",
        "findspark.find()"
      ],
      "metadata": {
        "colab": {
          "base_uri": "https://localhost:8080/",
          "height": 35
        },
        "id": "hzAINuAhVwY-",
        "outputId": "672b3d26-7548-4323-da28-f1dbd985dff6"
      },
      "id": "hzAINuAhVwY-",
      "execution_count": 11,
      "outputs": [
        {
          "output_type": "execute_result",
          "data": {
            "text/plain": [
              "'/content/spark-3.3.2-bin-hadoop3'"
            ],
            "application/vnd.google.colaboratory.intrinsic+json": {
              "type": "string"
            }
          },
          "metadata": {},
          "execution_count": 11
        }
      ]
    },
    {
      "cell_type": "code",
      "execution_count": 30,
      "id": "short-sally",
      "metadata": {
        "id": "short-sally"
      },
      "outputs": [],
      "source": [
        "from pyspark.sql import SparkSession\n",
        "from pyspark import SparkContext\n",
        "from pyspark.sql.functions import col, explode\n",
        "\n",
        "from pyspark.ml.evaluation import RegressionEvaluator\n",
        "from pyspark.ml.recommendation import ALS, ALSModel\n",
        "from pyspark.ml.tuning import ParamGridBuilder, CrossValidator\n",
        "import pandas as pd"
      ]
    },
    {
      "cell_type": "markdown",
      "id": "accepted-button",
      "metadata": {
        "id": "accepted-button"
      },
      "source": [
        "### Initialize spark session"
      ]
    },
    {
      "cell_type": "code",
      "execution_count": 13,
      "id": "related-messenger",
      "metadata": {
        "id": "related-messenger"
      },
      "outputs": [],
      "source": [
        "spark = SparkSession.builder.appName('Recommendation').getOrCreate()\n",
        "sc = SparkContext"
      ]
    },
    {
      "cell_type": "markdown",
      "id": "several-shanghai",
      "metadata": {
        "id": "several-shanghai"
      },
      "source": [
        "### Load dataset"
      ]
    },
    {
      "cell_type": "code",
      "execution_count": 14,
      "id": "rubber-second",
      "metadata": {
        "colab": {
          "base_uri": "https://localhost:8080/"
        },
        "id": "rubber-second",
        "outputId": "09eeb1e4-6c5e-4ba0-9bb7-83ca47addc90"
      },
      "outputs": [
        {
          "output_type": "stream",
          "name": "stdout",
          "text": [
            "+------+-------+------+---------+\n",
            "|userId|movieId|rating|timestamp|\n",
            "+------+-------+------+---------+\n",
            "|     1|      1|   4.0|964982703|\n",
            "|     1|      3|   4.0|964981247|\n",
            "|     1|      6|   4.0|964982224|\n",
            "|     1|     47|   5.0|964983815|\n",
            "|     1|     50|   5.0|964982931|\n",
            "|     1|     70|   3.0|964982400|\n",
            "|     1|    101|   5.0|964980868|\n",
            "|     1|    110|   4.0|964982176|\n",
            "|     1|    151|   5.0|964984041|\n",
            "|     1|    157|   5.0|964984100|\n",
            "|     1|    163|   5.0|964983650|\n",
            "|     1|    216|   5.0|964981208|\n",
            "|     1|    223|   3.0|964980985|\n",
            "|     1|    231|   5.0|964981179|\n",
            "|     1|    235|   4.0|964980908|\n",
            "|     1|    260|   5.0|964981680|\n",
            "|     1|    296|   3.0|964982967|\n",
            "|     1|    316|   3.0|964982310|\n",
            "|     1|    333|   5.0|964981179|\n",
            "|     1|    349|   4.0|964982563|\n",
            "+------+-------+------+---------+\n",
            "only showing top 20 rows\n",
            "\n"
          ]
        }
      ],
      "source": [
        "movies = spark.read.csv('/content/movies.csv', header=True)\n",
        "ratings = spark.read.csv('/content/ratings.csv', header=True)\n",
        "\n",
        "ratings.show()"
      ]
    },
    {
      "cell_type": "code",
      "execution_count": 15,
      "id": "superb-brown",
      "metadata": {
        "colab": {
          "base_uri": "https://localhost:8080/"
        },
        "id": "superb-brown",
        "outputId": "9f377a9c-1dc0-4c47-d627-f49518daa027"
      },
      "outputs": [
        {
          "output_type": "stream",
          "name": "stdout",
          "text": [
            "root\n",
            " |-- userId: string (nullable = true)\n",
            " |-- movieId: string (nullable = true)\n",
            " |-- rating: string (nullable = true)\n",
            " |-- timestamp: string (nullable = true)\n",
            "\n",
            "+------+-------+------+\n",
            "|userId|movieId|rating|\n",
            "+------+-------+------+\n",
            "|     1|      1|   4.0|\n",
            "|     1|      3|   4.0|\n",
            "|     1|      6|   4.0|\n",
            "|     1|     47|   5.0|\n",
            "|     1|     50|   5.0|\n",
            "|     1|     70|   3.0|\n",
            "|     1|    101|   5.0|\n",
            "|     1|    110|   4.0|\n",
            "|     1|    151|   5.0|\n",
            "|     1|    157|   5.0|\n",
            "|     1|    163|   5.0|\n",
            "|     1|    216|   5.0|\n",
            "|     1|    223|   3.0|\n",
            "|     1|    231|   5.0|\n",
            "|     1|    235|   4.0|\n",
            "|     1|    260|   5.0|\n",
            "|     1|    296|   3.0|\n",
            "|     1|    316|   3.0|\n",
            "|     1|    333|   5.0|\n",
            "|     1|    349|   4.0|\n",
            "+------+-------+------+\n",
            "only showing top 20 rows\n",
            "\n"
          ]
        }
      ],
      "source": [
        "ratings.printSchema()\n",
        "\n",
        "ratings = ratings.withColumn('userId', col('userId').cast('integer')).\\\n",
        "                  withColumn('movieId', col('movieId').cast('integer')).\\\n",
        "                  withColumn('rating', col('rating').cast('float')).\\\n",
        "                  drop('timestamp')\n",
        "\n",
        "ratings.show()"
      ]
    },
    {
      "cell_type": "code",
      "execution_count": 16,
      "id": "standing-valve",
      "metadata": {
        "colab": {
          "base_uri": "https://localhost:8080/"
        },
        "id": "standing-valve",
        "outputId": "f819f36f-8784-4ed2-f964-496d6dc610fd"
      },
      "outputs": [
        {
          "output_type": "stream",
          "name": "stdout",
          "text": [
            "+-------+--------------------+--------------------+\n",
            "|movieId|               title|              genres|\n",
            "+-------+--------------------+--------------------+\n",
            "|      1|    Toy Story (1995)|Adventure|Animati...|\n",
            "|      2|      Jumanji (1995)|Adventure|Childre...|\n",
            "|      3|Grumpier Old Men ...|      Comedy|Romance|\n",
            "|      4|Waiting to Exhale...|Comedy|Drama|Romance|\n",
            "|      5|Father of the Bri...|              Comedy|\n",
            "|      6|         Heat (1995)|Action|Crime|Thri...|\n",
            "|      7|      Sabrina (1995)|      Comedy|Romance|\n",
            "|      8| Tom and Huck (1995)|  Adventure|Children|\n",
            "|      9| Sudden Death (1995)|              Action|\n",
            "|     10|    GoldenEye (1995)|Action|Adventure|...|\n",
            "|     11|American Presiden...|Comedy|Drama|Romance|\n",
            "|     12|Dracula: Dead and...|       Comedy|Horror|\n",
            "|     13|        Balto (1995)|Adventure|Animati...|\n",
            "|     14|        Nixon (1995)|               Drama|\n",
            "|     15|Cutthroat Island ...|Action|Adventure|...|\n",
            "|     16|       Casino (1995)|         Crime|Drama|\n",
            "|     17|Sense and Sensibi...|       Drama|Romance|\n",
            "|     18|   Four Rooms (1995)|              Comedy|\n",
            "|     19|Ace Ventura: When...|              Comedy|\n",
            "|     20|  Money Train (1995)|Action|Comedy|Cri...|\n",
            "+-------+--------------------+--------------------+\n",
            "only showing top 20 rows\n",
            "\n"
          ]
        }
      ],
      "source": [
        "movies.show()"
      ]
    },
    {
      "cell_type": "markdown",
      "id": "checked-ballet",
      "metadata": {
        "id": "checked-ballet"
      },
      "source": [
        "### Calculate sparsity"
      ]
    },
    {
      "cell_type": "code",
      "execution_count": 17,
      "id": "north-aaron",
      "metadata": {
        "colab": {
          "base_uri": "https://localhost:8080/"
        },
        "id": "north-aaron",
        "outputId": "52c159cc-c25f-4395-d3ae-f70b5c725c93"
      },
      "outputs": [
        {
          "output_type": "stream",
          "name": "stdout",
          "text": [
            "The rating dataframe is  98.30% empty.\n"
          ]
        }
      ],
      "source": [
        "numerator = ratings.select('rating').count()\n",
        "\n",
        "num_users = ratings.select('userId').distinct().count()\n",
        "num_movies = ratings.select('movieId').distinct().count()\n",
        "\n",
        "denominator = num_movies * num_users\n",
        "\n",
        "sparsity = (1.0 - (numerator * 1.0)/denominator) * 100\n",
        "\n",
        "print(\"The rating dataframe is \", \"%.2f\" % sparsity + \"% empty.\")"
      ]
    },
    {
      "cell_type": "markdown",
      "id": "dental-nancy",
      "metadata": {
        "id": "dental-nancy"
      },
      "source": [
        "### Data exploration"
      ]
    },
    {
      "cell_type": "code",
      "execution_count": 18,
      "id": "thousand-distribution",
      "metadata": {
        "colab": {
          "base_uri": "https://localhost:8080/"
        },
        "id": "thousand-distribution",
        "outputId": "4cfdacec-d7ca-4267-df08-a0a74eb422c0"
      },
      "outputs": [
        {
          "output_type": "stream",
          "name": "stdout",
          "text": [
            "+------+-----+\n",
            "|userId|count|\n",
            "+------+-----+\n",
            "|   414| 2698|\n",
            "|   599| 2478|\n",
            "|   474| 2108|\n",
            "|   448| 1864|\n",
            "|   274| 1346|\n",
            "|   610| 1302|\n",
            "|    68| 1260|\n",
            "|   380| 1218|\n",
            "|   606| 1115|\n",
            "|   288| 1055|\n",
            "|   249| 1046|\n",
            "|   387| 1027|\n",
            "|   182|  977|\n",
            "|   307|  975|\n",
            "|   603|  943|\n",
            "|   298|  939|\n",
            "|   177|  904|\n",
            "|   318|  879|\n",
            "|   232|  862|\n",
            "|   480|  836|\n",
            "+------+-----+\n",
            "only showing top 20 rows\n",
            "\n"
          ]
        }
      ],
      "source": [
        "userId_ratings = ratings.groupBy('userId').count().orderBy('count', ascending=False)\n",
        "userId_ratings.show()"
      ]
    },
    {
      "cell_type": "code",
      "execution_count": 19,
      "id": "featured-benjamin",
      "metadata": {
        "colab": {
          "base_uri": "https://localhost:8080/"
        },
        "id": "featured-benjamin",
        "outputId": "479dccb7-c5e9-4a81-8368-751827e96ff5"
      },
      "outputs": [
        {
          "output_type": "stream",
          "name": "stdout",
          "text": [
            "+-------+-----+\n",
            "|movieId|count|\n",
            "+-------+-----+\n",
            "|    356|  329|\n",
            "|    318|  317|\n",
            "|    296|  307|\n",
            "|    593|  279|\n",
            "|   2571|  278|\n",
            "|    260|  251|\n",
            "|    480|  238|\n",
            "|    110|  237|\n",
            "|    589|  224|\n",
            "|    527|  220|\n",
            "|   2959|  218|\n",
            "|      1|  215|\n",
            "|   1196|  211|\n",
            "|   2858|  204|\n",
            "|     50|  204|\n",
            "|     47|  203|\n",
            "|    780|  202|\n",
            "|    150|  201|\n",
            "|   1198|  200|\n",
            "|   4993|  198|\n",
            "+-------+-----+\n",
            "only showing top 20 rows\n",
            "\n"
          ]
        }
      ],
      "source": [
        "movieId_ratings = ratings.groupBy('movieId').count().orderBy('count', ascending=False)\n",
        "movieId_ratings.show()"
      ]
    },
    {
      "cell_type": "markdown",
      "id": "french-timber",
      "metadata": {
        "id": "french-timber"
      },
      "source": [
        "### ALS Model build"
      ]
    },
    {
      "cell_type": "code",
      "execution_count": 20,
      "id": "located-burden",
      "metadata": {
        "id": "located-burden"
      },
      "outputs": [],
      "source": [
        "train, test = ratings.randomSplit([0.8, 0.2], seed=1)\n",
        "\n",
        "als = ALS(userCol='userId',\n",
        "          itemCol='movieId',\n",
        "          ratingCol='rating',\n",
        "          nonnegative=True, implicitPrefs=False, coldStartStrategy='drop')\n",
        "\n",
        "# type(als)"
      ]
    },
    {
      "cell_type": "markdown",
      "id": "acceptable-timing",
      "metadata": {
        "id": "acceptable-timing"
      },
      "source": [
        "#### Hyperparameter tuning"
      ]
    },
    {
      "cell_type": "code",
      "execution_count": 21,
      "id": "bronze-reporter",
      "metadata": {
        "colab": {
          "base_uri": "https://localhost:8080/"
        },
        "id": "bronze-reporter",
        "outputId": "7d413f70-9b09-4d80-b688-740b739ece58"
      },
      "outputs": [
        {
          "output_type": "stream",
          "name": "stdout",
          "text": [
            "Number of models to test:  16\n"
          ]
        }
      ],
      "source": [
        "param_grid = ParamGridBuilder() \\\n",
        "             .addGrid(als.rank, [10, 50, 100, 150]) \\\n",
        "             .addGrid(als.regParam, [.01, .05, .1, .15]) \\\n",
        "             .build()\n",
        "\n",
        "evaluator = RegressionEvaluator(metricName='rmse', labelCol='rating', predictionCol='prediction')\n",
        "\n",
        "print(\"Number of models to test: \", len(param_grid))"
      ]
    },
    {
      "cell_type": "markdown",
      "id": "complex-insulation",
      "metadata": {
        "id": "complex-insulation"
      },
      "source": [
        "#### Cross-validation pipeline"
      ]
    },
    {
      "cell_type": "code",
      "execution_count": 22,
      "id": "comprehensive-brand",
      "metadata": {
        "colab": {
          "base_uri": "https://localhost:8080/"
        },
        "id": "comprehensive-brand",
        "outputId": "6e5292a9-d070-4e64-fed1-cf3ae147ff63"
      },
      "outputs": [
        {
          "output_type": "stream",
          "name": "stdout",
          "text": [
            "CrossValidator_a872538b2df6\n"
          ]
        }
      ],
      "source": [
        "cv = CrossValidator(estimator=als,\n",
        "                    estimatorParamMaps=param_grid,\n",
        "                    evaluator=evaluator,\n",
        "                    numFolds=5)\n",
        "\n",
        "print(cv)"
      ]
    },
    {
      "cell_type": "markdown",
      "id": "lyric-rehabilitation",
      "metadata": {
        "id": "lyric-rehabilitation"
      },
      "source": [
        "#### Model training"
      ]
    },
    {
      "cell_type": "code",
      "execution_count": 23,
      "id": "fuzzy-multiple",
      "metadata": {
        "id": "fuzzy-multiple"
      },
      "outputs": [],
      "source": [
        "model = cv.fit(train)\n",
        "\n",
        "best_model = model.bestModel"
      ]
    },
    {
      "cell_type": "markdown",
      "id": "human-uzbekistan",
      "metadata": {
        "id": "human-uzbekistan"
      },
      "source": [
        "### Select best model"
      ]
    },
    {
      "cell_type": "code",
      "execution_count": 24,
      "id": "clean-luxury",
      "metadata": {
        "colab": {
          "base_uri": "https://localhost:8080/"
        },
        "id": "clean-luxury",
        "outputId": "8f4da0b8-0d89-44d9-f8ef-7844e2352507"
      },
      "outputs": [
        {
          "output_type": "stream",
          "name": "stdout",
          "text": [
            "<class 'pyspark.ml.recommendation.ALSModel'>\n",
            "Best model ->\n",
            "  Rank:  50\n",
            "  MaxIter:  10\n",
            "  RegParam:  0.15\n"
          ]
        }
      ],
      "source": [
        "print(type(best_model))\n",
        "\n",
        "print(\"Best model ->\")\n",
        "\n",
        "print(\"  Rank: \", best_model._java_obj.parent().getRank())\n",
        "\n",
        "print(\"  MaxIter: \", best_model._java_obj.parent().getMaxIter())\n",
        "\n",
        "print(\"  RegParam: \", best_model._java_obj.parent().getRegParam())"
      ]
    },
    {
      "cell_type": "markdown",
      "id": "passing-radical",
      "metadata": {
        "id": "passing-radical"
      },
      "source": [
        "### Test model"
      ]
    },
    {
      "cell_type": "code",
      "execution_count": 25,
      "id": "documented-microphone",
      "metadata": {
        "colab": {
          "base_uri": "https://localhost:8080/"
        },
        "id": "documented-microphone",
        "outputId": "2e1236c2-f1cf-420b-e3a8-c867798b59be"
      },
      "outputs": [
        {
          "output_type": "stream",
          "name": "stdout",
          "text": [
            "0.8629447957489936\n"
          ]
        }
      ],
      "source": [
        "test_predictions = best_model.transform(test)\n",
        "\n",
        "RMSE = evaluator.evaluate(test_predictions)\n",
        "\n",
        "print(RMSE)"
      ]
    },
    {
      "cell_type": "code",
      "execution_count": 26,
      "id": "approximate-window",
      "metadata": {
        "colab": {
          "base_uri": "https://localhost:8080/"
        },
        "id": "approximate-window",
        "outputId": "8849ce04-4155-4832-d7aa-41226f8d0bac"
      },
      "outputs": [
        {
          "output_type": "stream",
          "name": "stdout",
          "text": [
            "+------+-------+------+----------+\n",
            "|userId|movieId|rating|prediction|\n",
            "+------+-------+------+----------+\n",
            "|   580|  44022|   3.5| 3.1228669|\n",
            "|   362|   1591|   4.0| 2.8110528|\n",
            "|    34|   1580|   2.5| 3.5601945|\n",
            "|    34|   3997|   2.0| 1.1864082|\n",
            "|   368|   2122|   2.0| 2.1366324|\n",
            "|   368|   2366|   4.0| 3.0434473|\n",
            "|   115|   3175|   4.0| 3.4754665|\n",
            "|   332|   2366|   3.5| 3.4818144|\n",
            "|   577|   1580|   3.0| 3.2790654|\n",
            "|   577|   2366|   3.0| 3.3370287|\n",
            "|   606|  44022|   4.0| 2.6731396|\n",
            "|   388|  44022|   4.5| 3.0867321|\n",
            "|    91|    471|   1.0| 2.8665233|\n",
            "|   230|   1580|   3.5| 2.9090571|\n",
            "|    93|   1591|   4.0| 3.0772955|\n",
            "|   232|   1580|   3.5| 3.4207573|\n",
            "|   232|  36525|   3.0| 2.4240954|\n",
            "|   246|   1645|   4.0| 3.6306412|\n",
            "|   599|   1591|   2.5| 2.0009441|\n",
            "|   599|   3175|   3.0|  2.873227|\n",
            "+------+-------+------+----------+\n",
            "only showing top 20 rows\n",
            "\n"
          ]
        }
      ],
      "source": [
        "test_predictions.show()"
      ]
    },
    {
      "cell_type": "code",
      "source": [
        "!mkdir models"
      ],
      "metadata": {
        "id": "i7iW2AiSi1pH"
      },
      "id": "i7iW2AiSi1pH",
      "execution_count": 27,
      "outputs": []
    },
    {
      "cell_type": "code",
      "source": [
        "model.save('/content/models/ALS_model')"
      ],
      "metadata": {
        "id": "oy_2X7jtivn2"
      },
      "id": "oy_2X7jtivn2",
      "execution_count": 28,
      "outputs": []
    },
    {
      "cell_type": "markdown",
      "id": "offensive-blank",
      "metadata": {
        "id": "offensive-blank"
      },
      "source": [
        "### Model evaluation and recommendation"
      ]
    },
    {
      "cell_type": "code",
      "execution_count": 34,
      "id": "tired-diversity",
      "metadata": {
        "colab": {
          "base_uri": "https://localhost:8080/"
        },
        "id": "tired-diversity",
        "outputId": "858b5df6-f90a-4eb9-bdd3-62a7f13e7531"
      },
      "outputs": [
        {
          "output_type": "stream",
          "name": "stdout",
          "text": [
            "+------+--------------------+\n",
            "|userId|     recommendations|\n",
            "+------+--------------------+\n",
            "|     1|[{3379, 5.736997}...|\n",
            "|     3|[{6835, 4.835305}...|\n",
            "|     5|[{6201, 4.4295135...|\n",
            "|     6|[{33649, 4.888212...|\n",
            "|     9|[{3379, 4.7077045...|\n",
            "|    12|[{67618, 5.604050...|\n",
            "|    13|[{3379, 5.1179504...|\n",
            "|    15|[{7842, 4.4468236...|\n",
            "|    16|[{3379, 4.443803}...|\n",
            "|    17|[{3379, 5.170812}...|\n",
            "+------+--------------------+\n",
            "\n"
          ]
        }
      ],
      "source": [
        "n_recommendations = best_model.recommendForAllUsers(10)\n",
        "n_recommendations.limit(10).show()"
      ]
    },
    {
      "cell_type": "code",
      "execution_count": null,
      "id": "final-vehicle",
      "metadata": {
        "id": "final-vehicle"
      },
      "outputs": [],
      "source": [
        "n_recommendations = n_recommendations.withColumn('rec_exp', explode('recommendations')) \\\n",
        "                                     .select('userId', col('rec_exp.movieId'), col(\"rec_exp.rating\"))\n",
        "\n",
        "n_recommendations.limit(10).show()"
      ]
    },
    {
      "cell_type": "code",
      "execution_count": 38,
      "id": "collaborative-percentage",
      "metadata": {
        "colab": {
          "base_uri": "https://localhost:8080/"
        },
        "id": "collaborative-percentage",
        "outputId": "e98e4641-3f83-4c59-df9e-fa4863d8414c"
      },
      "outputs": [
        {
          "output_type": "stream",
          "name": "stdout",
          "text": [
            "+-------+------+---------+--------------------+--------------------+\n",
            "|movieId|userId|   rating|               title|              genres|\n",
            "+-------+------+---------+--------------------+--------------------+\n",
            "|  33649|   100|5.1769004|  Saving Face (2004)|Comedy|Drama|Romance|\n",
            "|  67618|   100| 5.127819|Strictly Sexual (...|Comedy|Drama|Romance|\n",
            "|  42730|   100|4.9616914|   Glory Road (2006)|               Drama|\n",
            "|  74226|   100|4.9400554|Dream of Light (a...|   Documentary|Drama|\n",
            "|  26073|   100|4.9400554|Human Condition I...|           Drama|War|\n",
            "| 179135|   100|4.9400554|Blue Planet II (2...|         Documentary|\n",
            "|   7071|   100|4.9400554|Woman Under the I...|               Drama|\n",
            "| 134796|   100|4.9400554|  Bitter Lake (2015)|         Documentary|\n",
            "| 138966|   100|4.9400554|Nasu: Summer in A...|           Animation|\n",
            "| 184245|   100|4.9400554|De platte jungle ...|         Documentary|\n",
            "+-------+------+---------+--------------------+--------------------+\n",
            "\n"
          ]
        }
      ],
      "source": [
        "n_recommendations.join(movies, on='movieId').filter('userId = 100').show()"
      ]
    },
    {
      "cell_type": "code",
      "execution_count": 39,
      "id": "equivalent-shelter",
      "metadata": {
        "colab": {
          "base_uri": "https://localhost:8080/"
        },
        "id": "equivalent-shelter",
        "outputId": "00c0d140-f8b7-43ae-e839-59d73df86351"
      },
      "outputs": [
        {
          "output_type": "stream",
          "name": "stdout",
          "text": [
            "+-------+------+------+--------------------+--------------------+\n",
            "|movieId|userId|rating|               title|              genres|\n",
            "+-------+------+------+--------------------+--------------------+\n",
            "|   1101|   100|   5.0|      Top Gun (1986)|      Action|Romance|\n",
            "|   1958|   100|   5.0|Terms of Endearme...|        Comedy|Drama|\n",
            "|   2423|   100|   5.0|Christmas Vacatio...|              Comedy|\n",
            "|   4041|   100|   5.0|Officer and a Gen...|       Drama|Romance|\n",
            "|   5620|   100|   5.0|Sweet Home Alabam...|      Comedy|Romance|\n",
            "|    368|   100|   4.5|     Maverick (1994)|Adventure|Comedy|...|\n",
            "|    934|   100|   4.5|Father of the Bri...|              Comedy|\n",
            "|    539|   100|   4.5|Sleepless in Seat...|Comedy|Drama|Romance|\n",
            "|     16|   100|   4.5|       Casino (1995)|         Crime|Drama|\n",
            "|    553|   100|   4.5|    Tombstone (1993)|Action|Drama|Western|\n",
            "+-------+------+------+--------------------+--------------------+\n",
            "\n"
          ]
        }
      ],
      "source": [
        "ratings.join(movies, on='movieId').filter('userId = 100').sort('rating', ascending=False).limit(10).show()"
      ]
    },
    {
      "cell_type": "code",
      "source": [],
      "metadata": {
        "id": "D7J0qktgx8rh"
      },
      "id": "D7J0qktgx8rh",
      "execution_count": null,
      "outputs": []
    }
  ],
  "metadata": {
    "kernelspec": {
      "display_name": "Python [conda env:tf3]",
      "language": "python",
      "name": "conda-env-tf3-py"
    },
    "language_info": {
      "codemirror_mode": {
        "name": "ipython",
        "version": 3
      },
      "file_extension": ".py",
      "mimetype": "text/x-python",
      "name": "python",
      "nbconvert_exporter": "python",
      "pygments_lexer": "ipython3",
      "version": "3.8.8"
    },
    "colab": {
      "provenance": []
    }
  },
  "nbformat": 4,
  "nbformat_minor": 5
}